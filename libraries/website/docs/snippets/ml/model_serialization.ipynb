{
 "cells": [
  {
   "cell_type": "code",
   "execution_count": null,
   "metadata": {
    "collapsed": false
   },
   "outputs": [],
   "source": [
    "# This file is generated from a Mathy (https://mathy.ai) code example.\n",
    "!pip install mathy --upgrade\n",
    "!pip install gym\n",
    "import shutil\n",
    "import tempfile\n",
    "\n",
    "from mathy.agents import A3CAgent, AgentConfig\n",
    "from mathy.agents.model import get_or_create_agent_model\n",
    "from mathy.cli import setup_tf_env\n",
    "from mathy.envs import PolySimplify\n",
    "\n",
    "model_folder = tempfile.mkdtemp()\n",
    "setup_tf_env()\n",
    "\n",
    "args = AgentConfig(\n",
    "    max_eps=3,\n",
    "    verbose=True,\n",
    "    topics=[\"poly\"],\n",
    "    model_dir=model_folder,\n",
    "    update_gradients_every=4,\n",
    "    num_workers=1,\n",
    "    units=4,\n",
    "    embedding_units=4,\n",
    "    lstm_units=4,\n",
    "    print_training=True,\n",
    ")\n",
    "instance = A3CAgent(args)\n",
    "instance.train()\n",
    "# Load the model back in\n",
    "model_two = get_or_create_agent_model(\n",
    "    config=args, predictions=PolySimplify().action_size, is_main=True\n",
    ")\n",
    "# Comment this out to keep your model\n",
    "shutil.rmtree(model_folder)"
   ]
  }
 ],
 "metadata": {},
 "nbformat": 4,
 "nbformat_minor": 4
}

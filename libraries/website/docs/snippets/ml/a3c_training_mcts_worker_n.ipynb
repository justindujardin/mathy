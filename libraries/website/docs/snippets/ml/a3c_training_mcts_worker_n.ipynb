{
 "cells": [
  {
   "cell_type": "code",
   "execution_count": null,
   "metadata": {
    "collapsed": false
   },
   "outputs": [],
   "source": [
    "# This file is generated from a mathy documentation code snippet.\n",
    "!pip install mathy\n",
    "from mathy.cli import setup_tf_env\n",
    "from mathy.agents.a3c import A3CAgent, A3CConfig\n",
    "import shutil\n",
    "import tempfile\n",
    "\n",
    "model_folder = tempfile.mkdtemp()\n",
    "setup_tf_env()\n",
    "\n",
    "args = A3CConfig(\n",
    "    action_strategy=\"mcts_worker_n\",\n",
    "    max_eps=1,\n",
    "    verbose=True,\n",
    "    topics=[\"poly-combine\"],\n",
    "    model_dir=model_folder,\n",
    "    num_workers=2,\n",
    "    clip_grouping_control=False,\n",
    "    print_training=True,\n",
    ")\n",
    "A3CAgent(args).train()\n",
    "# Comment this out to keep your model\n",
    "shutil.rmtree(model_folder)"
   ]
  }
 ],
 "metadata": {},
 "nbformat": 4,
 "nbformat_minor": 2
}

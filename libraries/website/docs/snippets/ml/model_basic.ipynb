{
 "cells": [
  {
   "cell_type": "code",
   "execution_count": null,
   "metadata": {
    "collapsed": false
   },
   "outputs": [],
   "source": [
    "# This file is generated from a Mathy (https://mathy.ai) code example.\n",
    "!pip install mathy --upgrade\n",
    "import tensorflow as tf\n",
    "\n",
    "from mathy import envs\n",
    "from mathy.agent.config import AgentConfig\n",
    "from mathy.agent.model import build_agent_model\n",
    "from mathy.env import MathyEnv\n",
    "from mathy.state import MathyObservation, observations_to_window\n",
    "\n",
    "args = AgentConfig()\n",
    "env: MathyEnv = envs.PolySimplify()\n",
    "observation: MathyObservation = env.state_to_observation(env.get_initial_state()[0])\n",
    "model = build_agent_model(args, predictions=env.action_size)\n",
    "inputs = observations_to_window([observation], args.max_len).to_inputs()\n",
    "policy, value, reward = model.predict(inputs)\n",
    "# TODO: this is broken until the model is restructured to produce a single output\n",
    "\n",
    "# The policy is a 1D array of size (actions * num_nodes)\n",
    "assert policy.shape == (1, len(observation.nodes), env.action_size)\n",
    "\n",
    "# There should be one floating point output Value\n",
    "assert value.shape == (1, 1)\n",
    "assert isinstance(float(value), float)"
   ]
  }
 ],
 "metadata": {},
 "nbformat": 4,
 "nbformat_minor": 4
}

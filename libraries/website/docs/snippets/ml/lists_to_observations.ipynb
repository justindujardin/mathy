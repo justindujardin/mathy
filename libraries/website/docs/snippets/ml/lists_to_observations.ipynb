{
 "cells": [
  {
   "cell_type": "code",
   "execution_count": null,
   "metadata": {
    "collapsed": false
   },
   "outputs": [],
   "source": [
    "# This file is generated from a Mathy (https://mathy.ai) code example.\n",
    "!pip install mathy --upgrade\n",
    "from mathy import MathyEnv, MathyEnvState, MathyObservation, envs\n",
    "\n",
    "env: MathyEnv = envs.PolySimplify()\n",
    "state: MathyEnvState = env.get_initial_state()[0]\n",
    "observation: MathyObservation = env.state_to_observation(state)\n",
    "\n",
    "# As many nodes as values\n",
    "assert len(observation.nodes) == len(observation.values)\n",
    "# Mask is number of nodes times number of actions\n",
    "assert len(observation.mask) == len(observation.nodes) * env.action_size"
   ]
  }
 ],
 "metadata": {},
 "nbformat": 4,
 "nbformat_minor": 4
}

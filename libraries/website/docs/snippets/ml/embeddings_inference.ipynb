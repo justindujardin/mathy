{
 "cells": [
  {
   "cell_type": "code",
   "execution_count": null,
   "metadata": {
    "collapsed": false
   },
   "outputs": [],
   "source": [
    "# This file is generated from a Mathy (https://mathy.ai) code example.\n",
    "!pip install mathy --upgrade\n",
    "from mathy import envs\n",
    "from mathy.agents.config import AgentConfig\n",
    "from mathy.agents.embedding import MathyEmbedding\n",
    "from mathy.env import MathyEnv\n",
    "from mathy.state import MathyObservation, observations_to_window\n",
    "\n",
    "\n",
    "args = AgentConfig()\n",
    "env: MathyEnv = envs.PolySimplify()\n",
    "observation: MathyObservation = env.state_to_observation(env.get_initial_state()[0])\n",
    "model = MathyEmbedding(args)\n",
    "# output shape is: [num_observations, max_nodes_len, embedding_dimensions]\n",
    "inputs = observations_to_window([observation, observation]).to_inputs()\n",
    "embeddings, attentions = model(inputs)\n",
    "\n",
    "# We provided two observations in a sequence\n",
    "assert embeddings.shape[0] == 2\n",
    "# There are as many outputs as input sequences\n",
    "assert embeddings.shape[1] == len(observation.nodes)\n",
    "# Outputs vectors with the provided embedding units\n",
    "assert embeddings.shape[-1] == args.embedding_units\n",
    "\n",
    "# The attention output is a grid of [num_observations, max_nodes_len, max_nodes_len]\n",
    "assert attentions.shape == [2, len(observation.nodes), len(observation.nodes)]"
   ]
  }
 ],
 "metadata": {},
 "nbformat": 4,
 "nbformat_minor": 4
}

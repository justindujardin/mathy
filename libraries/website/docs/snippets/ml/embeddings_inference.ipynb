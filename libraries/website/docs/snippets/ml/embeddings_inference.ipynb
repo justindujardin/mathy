{
 "cells": [
  {
   "cell_type": "code",
   "execution_count": null,
   "metadata": {
    "collapsed": false
   },
   "outputs": [],
   "source": [
    "# This file is generated from a mathy documentation code snippet.\n",
    "!pip install mathy\n",
    "import tensorflow as tf\n",
    "\n",
    "from mathy import envs\n",
    "from mathy.agents.base_config import BaseConfig\n",
    "from mathy.agents.embedding import build_math_embeddings_model\n",
    "from mathy.env import MathyEnv\n",
    "from mathy.state import MathyObservation, observations_to_window\n",
    "\n",
    "args = BaseConfig()\n",
    "env: MathyEnv = envs.PolySimplify()\n",
    "observation: MathyObservation = env.state_to_observation(\n",
    "    env.get_initial_state()[0], rnn_size=args.lstm_units\n",
    ")\n",
    "model: tf.keras.Model = build_math_embeddings_model(args)\n",
    "# output shape is: [num_observations, max_nodes_len, embedding_dimensions]\n",
    "embeddings = model.predict(observations_to_window([observation]).to_inputs())\n",
    "\n",
    "# We only passed one observation sequence\n",
    "assert embeddings.shape[0] == 1\n",
    "# There are as many outputs as input sequences\n",
    "assert embeddings.shape[1] == len(observation.nodes)\n",
    "# Outputs vectors with the provided embedding units\n",
    "assert embeddings.shape[-1] == args.embedding_units"
   ]
  }
 ],
 "metadata": {},
 "nbformat": 4,
 "nbformat_minor": 2
}

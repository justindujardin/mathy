{
 "cells": [
  {
   "cell_type": "code",
   "execution_count": null,
   "metadata": {
    "collapsed": false
   },
   "outputs": [],
   "source": [
    "# This file is generated from a Mathy (https://mathy.ai) code example.\n",
    "!pip install mathy --upgrade\n",
    "!pip install gym\n",
    "import os\n",
    "from mathy.cli import setup_tf_env\n",
    "from mathy.agents import A3CAgent, AgentConfig\n",
    "import shutil\n",
    "import tempfile\n",
    "\n",
    "model_folder = tempfile.mkdtemp()\n",
    "setup_tf_env()\n",
    "\n",
    "args = AgentConfig(\n",
    "    profile=True,\n",
    "    max_eps=2,\n",
    "    verbose=True,\n",
    "    topics=[\"poly-grouping\"],\n",
    "    model_dir=model_folder,\n",
    "    num_workers=2,\n",
    "    print_training=True,\n",
    ")\n",
    "A3CAgent(args).train()\n",
    "\n",
    "assert os.path.isfile(os.path.join(args.model_dir, \"worker_0.profile\"))\n",
    "assert os.path.isfile(os.path.join(args.model_dir, \"worker_1.profile\"))\n",
    "\n",
    "# Comment this out to keep your model\n",
    "shutil.rmtree(model_folder)"
   ]
  }
 ],
 "metadata": {},
 "nbformat": 4,
 "nbformat_minor": 4
}

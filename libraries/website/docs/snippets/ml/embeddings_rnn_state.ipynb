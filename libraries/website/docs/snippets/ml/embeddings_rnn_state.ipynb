{
 "cells": [
  {
   "cell_type": "code",
   "execution_count": null,
   "metadata": {
    "collapsed": false
   },
   "outputs": [],
   "source": [
    "# This file is generated from a mathy documentation code snippet.\n",
    "!pip install mathy\n",
    "import tensorflow as tf\n",
    "import numpy as np\n",
    "\n",
    "from mathy import envs\n",
    "from mathy.agents.base_config import BaseConfig\n",
    "from mathy.agents.embedding import build_math_embeddings_model, EmbeddingsState\n",
    "from mathy.env import MathyEnv\n",
    "from mathy.state import MathyObservation, observations_to_window\n",
    "\n",
    "args = BaseConfig()\n",
    "env: MathyEnv = envs.PolySimplify()\n",
    "observation: MathyObservation = env.state_to_observation(\n",
    "    env.get_initial_state()[0], rnn_size=args.lstm_units\n",
    ")\n",
    "\n",
    "model: tf.keras.Model = build_math_embeddings_model(args, return_states=True)\n",
    "\n",
    "inputs = observations_to_window([observation]).to_inputs()\n",
    "# Predict over an observation sequence\n",
    "embeddings, state_h, state_c = model.predict(inputs)\n",
    "\n",
    "# Expect that the RNN states are non-zero\n",
    "assert np.count_nonzero(state_h) > 0\n",
    "assert np.count_nonzero(state_c) > 0"
   ]
  }
 ],
 "metadata": {},
 "nbformat": 4,
 "nbformat_minor": 2
}

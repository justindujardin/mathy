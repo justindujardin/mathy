{
 "cells": [
  {
   "cell_type": "code",
   "execution_count": null,
   "metadata": {
    "collapsed": false
   },
   "outputs": [],
   "source": [
    "# This file is generated from a Mathy (https://mathy.ai) code example.\n",
    "!pip install mathy --upgrade\n",
    "from typing import List\n",
    "\n",
    "from mathy import ExpressionParser, MathExpression\n",
    "\n",
    "parser = ExpressionParser()\n",
    "expression: MathExpression = parser.parse(\"4 + 2x\")\n",
    "nodes: List[MathExpression] = expression.to_list()\n",
    "# len([4,+,2,*,x])\n",
    "assert len(nodes) == 5"
   ]
  }
 ],
 "metadata": {},
 "nbformat": 4,
 "nbformat_minor": 4
}

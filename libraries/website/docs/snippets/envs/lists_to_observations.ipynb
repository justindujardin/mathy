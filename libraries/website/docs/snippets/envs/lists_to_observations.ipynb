{
 "cells": [
  {
   "cell_type": "code",
   "execution_count": null,
   "id": "047634f3",
   "metadata": {
    "collapsed": false
   },
   "outputs": [],
   "source": [
    "# This file is generated from a Mathy (https://mathy.ai) code example.\n",
    "!pip install mathy --upgrade\n",
    "from mathy_envs import MathyEnv, MathyEnvState, MathyObservation, envs\n",
    "\n",
    "env: MathyEnv = envs.PolySimplify()\n",
    "state: MathyEnvState = env.get_initial_state()[0]\n",
    "observation: MathyObservation = env.state_to_observation(state)\n",
    "\n",
    "# As many nodes as values\n",
    "assert len(observation.nodes) == len(observation.values)\n",
    "# Mask is a binary validity mask of size (num_rules, num_nodes)\n",
    "assert len(observation.mask) == len(env.rules)\n",
    "assert len(observation.mask[0]) == len(observation.nodes)"
   ]
  }
 ],
 "metadata": {},
 "nbformat": 4,
 "nbformat_minor": 5
}

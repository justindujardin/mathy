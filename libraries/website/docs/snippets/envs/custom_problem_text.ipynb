{
 "cells": [
  {
   "cell_type": "code",
   "execution_count": null,
   "metadata": {
    "collapsed": false
   },
   "outputs": [],
   "source": [
    "# This file is generated from a Mathy (https://mathy.ai) code example.\n",
    "!pip install mathy --upgrade\n",
    "from mathy_envs import MathyEnv, MathyEnvProblem, MathyEnvProblemArgs\n",
    "\n",
    "\n",
    "class CustomSimplifyEnv(MathyEnv):\n",
    "    def get_env_namespace(self) -> str:\n",
    "        return \"custom.polynomial.simplify\"\n",
    "\n",
    "    def problem_fn(self, params: MathyEnvProblemArgs) -> MathyEnvProblem:\n",
    "        return MathyEnvProblem(\"4x + y + 13x\", 3, self.get_env_namespace())\n",
    "\n",
    "\n",
    "env: MathyEnv = CustomSimplifyEnv()\n",
    "state, problem = env.get_initial_state()\n",
    "assert problem.text == \"4x + y + 13x\"\n",
    "assert problem.complexity == 3"
   ]
  }
 ],
 "metadata": {},
 "nbformat": 4,
 "nbformat_minor": 4
}

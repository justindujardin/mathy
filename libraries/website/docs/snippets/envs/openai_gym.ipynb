{
 "cells": [
  {
   "cell_type": "code",
   "execution_count": null,
   "metadata": {
    "collapsed": false
   },
   "outputs": [],
   "source": [
    "# This file is generated from a mathy documentation code snippet.\n",
    "!pip install mathy\n",
    "!pip install gym\n",
    "import gym\n",
    "import mathy.envs.gym\n",
    "from mathy.state import MathyObservation\n",
    "\n",
    "all_envs = gym.envs.registration.registry.all()\n",
    "# Filter to just mathy registered envs\n",
    "mathy_envs = [e for e in all_envs if e.id.startswith(\"mathy-\")]\n",
    "\n",
    "assert len(mathy_envs) > 0\n",
    "\n",
    "# Each env can be created and produce an initial observation without\n",
    "# special configuration.\n",
    "for gym_env_spec in mathy_envs:\n",
    "    wrapper_env: mathy.envs.gym.MathyGymEnv = gym.make(gym_env_spec.id)\n",
    "    assert wrapper_env is not None\n",
    "    observation: MathyObservation = wrapper_env.reset()\n",
    "    assert isinstance(observation, MathyObservation)\n",
    "    assert observation is not None"
   ]
  }
 ],
 "metadata": {},
 "nbformat": 4,
 "nbformat_minor": 2
}

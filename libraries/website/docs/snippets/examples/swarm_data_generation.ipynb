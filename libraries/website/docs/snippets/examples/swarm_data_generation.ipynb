{
 "cells": [
  {
   "cell_type": "code",
   "execution_count": null,
   "metadata": {
    "collapsed": false
   },
   "outputs": [],
   "source": [
    "# This file is generated from a Mathy (https://mathy.ai) code example.\n",
    "!pip install mathy --upgrade\n",
    "!pip install gym\n",
    "\n",
    "\n",
    "from mathy.solver import SwarmConfig, mathy_swarm\n",
    "from mathy_envs.state import MathyEnvState\n",
    "\n",
    "# Which values do we want from the history tree?\n",
    "history_names = [\"states\", \"actions\", \"rewards\"]\n",
    "\n",
    "# Configure the swarm\n",
    "swarm = mathy_swarm(SwarmConfig(history=True, history_names=history_names))\n",
    "\n",
    "# Run the swarm to generate tree history\n",
    "swarm.run()\n",
    "\n",
    "# Sample random batches\n",
    "random_batches = swarm.tree.iterate_nodes_at_random(batch_size=32, names=history_names)\n",
    "total_set = set()\n",
    "total_generated = 0\n",
    "for states, actions, rewards in random_batches:\n",
    "    texts = [MathyEnvState.from_np(s).agent.problem for s in states]\n",
    "    total_generated += len(texts)\n",
    "    unique = list(set(texts))\n",
    "    total_set.update(unique)\n",
    "best_state = MathyEnvState.from_np(swarm.walkers.states.best_state)\n",
    "swarm.env._env._env.mathy.print_history(best_state)\n",
    "print(f\"Generated {total_generated} states, {len(total_set)} of which are unique\")\n",
    "print(f\"Highest reward encountered: {swarm.walkers.states.best_reward}\")\n",
    "print(best_state.agent.problem)"
   ]
  }
 ],
 "metadata": {},
 "nbformat": 4,
 "nbformat_minor": 4
}

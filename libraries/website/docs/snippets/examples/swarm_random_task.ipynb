{
 "cells": [
  {
   "cell_type": "code",
   "execution_count": null,
   "metadata": {
    "collapsed": false
   },
   "outputs": [],
   "source": [
    "# This file is generated from a Mathy (https://mathy.ai) code example.\n",
    "!pip install mathy --upgrade\n",
    "!pip install gym\n",
    "\n",
    "import random\n",
    "\n",
    "import gym\n",
    "\n",
    "from mathy.swarm import SwarmConfig, swarm_solve\n",
    "from mathy_envs.gym import MathyGymEnv\n",
    "\n",
    "config = SwarmConfig(max_iters=10)\n",
    "task = random.choice([\"poly\", \"binomial\", \"complex\"])\n",
    "env: MathyGymEnv = gym.make(f\"mathy-{task}-easy-v0\")\n",
    "_, problem = env.mathy.get_initial_state(env.env_problem_args)\n",
    "swarm_solve(problem.text, config)"
   ]
  }
 ],
 "metadata": {},
 "nbformat": 4,
 "nbformat_minor": 4
}

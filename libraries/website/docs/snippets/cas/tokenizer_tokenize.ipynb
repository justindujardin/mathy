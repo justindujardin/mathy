{
 "cells": [
  {
   "cell_type": "code",
   "execution_count": null,
   "id": "1467d003",
   "metadata": {
    "collapsed": false
   },
   "outputs": [],
   "source": [
    "# This file is generated from a Mathy (https://mathy.ai) code example.\n",
    "!pip install mathy --upgrade\n",
    "from typing import List\n",
    "\n",
    "from mathy_core import Token, Tokenizer\n",
    "\n",
    "text = \"4x + 2x^3 * 7x\"\n",
    "tokenizer = Tokenizer()\n",
    "tokens: List[Token] = tokenizer.tokenize(text)\n",
    "\n",
    "for token in tokens:\n",
    "    print(f\"type: {token.type}, value: {token.value}\")"
   ]
  }
 ],
 "metadata": {},
 "nbformat": 4,
 "nbformat_minor": 5
}

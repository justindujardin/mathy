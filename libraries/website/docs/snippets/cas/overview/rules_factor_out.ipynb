{
 "cells": [
  {
   "cell_type": "code",
   "execution_count": null,
   "metadata": {
    "collapsed": false
   },
   "outputs": [],
   "source": [
    "# This file is generated from a Mathy (https://mathy.ai) code example.\n",
    "!pip install mathy --upgrade\n",
    "from mathy_core import ExpressionParser\n",
    "from mathy_core.rules import DistributiveFactorOutRule\n",
    "\n",
    "input = \"4x + 2x\"\n",
    "output = \"(4 + 2) * x\"\n",
    "parser = ExpressionParser()\n",
    "\n",
    "input_exp = parser.parse(input)\n",
    "output_exp = parser.parse(output)\n",
    "\n",
    "# Verify that the rule transforms the tree as expected\n",
    "change = DistributiveFactorOutRule().apply_to(input_exp)\n",
    "assert str(change.result) == output\n",
    "\n",
    "# Verify that both trees evaluate to the same value\n",
    "ctx = {\"x\": 3}\n",
    "assert input_exp.evaluate(ctx) == output_exp.evaluate(ctx)"
   ]
  }
 ],
 "metadata": {},
 "nbformat": 4,
 "nbformat_minor": 4
}

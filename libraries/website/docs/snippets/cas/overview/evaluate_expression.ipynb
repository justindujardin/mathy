{
 "cells": [
  {
   "cell_type": "code",
   "execution_count": null,
   "id": "badea81a",
   "metadata": {
    "collapsed": false
   },
   "outputs": [],
   "source": [
    "# This file is generated from a Mathy (https://mathy.ai) code example.\n",
    "!pip install mathy --upgrade\n",
    "from mathy_core import ExpressionParser\n",
    "\n",
    "expression = ExpressionParser().parse(\"4 + 2\")\n",
    "assert expression.evaluate() == 6"
   ]
  }
 ],
 "metadata": {},
 "nbformat": 4,
 "nbformat_minor": 5
}

{
 "cells": [
  {
   "cell_type": "code",
   "execution_count": null,
   "id": "764889e4",
   "metadata": {
    "collapsed": false
   },
   "outputs": [],
   "source": [
    "# This file is generated from a Mathy (https://mathy.ai) code example.\n",
    "!pip install mathy --upgrade\n",
    "from typing import List\n",
    "\n",
    "from mathy_core import Token, TOKEN_TYPES, Tokenizer\n",
    "\n",
    "manual_tokens: List[Token] = [\n",
    "    Token(\"4\", TOKEN_TYPES.Constant),\n",
    "    Token(\"x\", TOKEN_TYPES.Variable),\n",
    "    Token(\"+\", TOKEN_TYPES.Plus),\n",
    "    Token(\"2\", TOKEN_TYPES.Constant),\n",
    "    Token(\"\", TOKEN_TYPES.EOF),\n",
    "]\n",
    "auto_tokens: List[Token] = Tokenizer().tokenize(\"4x + 2\")\n",
    "\n",
    "for i, token in enumerate(manual_tokens):\n",
    "    assert auto_tokens[i].value == token.value\n",
    "    assert auto_tokens[i].type == token.type"
   ]
  }
 ],
 "metadata": {},
 "nbformat": 4,
 "nbformat_minor": 5
}

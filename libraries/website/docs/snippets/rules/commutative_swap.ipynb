{
 "cells": [
  {
   "cell_type": "code",
   "execution_count": null,
   "metadata": {
    "collapsed": false
   },
   "outputs": [],
   "source": [
    "# This file is generated from a Mathy (https://mathy.ai) code example.\n",
    "!pip install mathy --upgrade\n",
    "from mathy_core import ExpressionParser\n",
    "from mathy_core.rules import CommutativeSwapRule\n",
    "\n",
    "input = \"x + y + x\"\n",
    "output = \"x + x + y\"\n",
    "parser = ExpressionParser()\n",
    "\n",
    "input_exp = parser.parse(input)\n",
    "output_exp = parser.parse(output)\n",
    "\n",
    "# Verify that the rule transforms the tree as expected\n",
    "change = CommutativeSwapRule().apply_to(input_exp)\n",
    "assert str(change.result) == output"
   ]
  }
 ],
 "metadata": {},
 "nbformat": 4,
 "nbformat_minor": 4
}

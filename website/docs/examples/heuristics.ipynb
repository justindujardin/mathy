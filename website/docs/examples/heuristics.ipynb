{
 "cells": [
  {
   "cell_type": "markdown",
   "metadata": {},
   "source": [
    "# Simple Solver [![Open Example In Colab](https://colab.research.google.com/assets/colab-badge.svg)](https://colab.research.google.com/github/justindujardin/mathy/blob/master/website/docs/examples/heuristics.ipynb)\n",
    "\n",
    "> This notebook is built using [mathy_core](https://core.mathy.ai).\n",
    "\n",
    "Remember the challenges in Algebra of combining like terms to simplify expressions? For example, turning `4x + y + 2x + 14x` into `20x + y` is a fundamental skill in mathematics, applicable in various real-world applications like engineering and economics.\n",
    "\n",
    "While having a program that outputs `20x + y` directly is convenient, understanding the step-by-step transformation is invaluable for learning and problem-solving.\n",
    "\n",
    "Let's explore how [mathy_core](https://core.mathy.ai) parses input text into a tree structure, and then applies transformations to simplify the tree into a solution. In this notebook, we use a simple, heuristic approach to demonstrate the API's functionality. The heuristics applied here are intentionally basic, serving as a foundational tool for beginners and a clear illustration of the API in action. \n",
    "\n",
    "This approach is perfect for educational purposes, allowing you to not just see the end result but also to understand each step we take to get there.\n",
    "\n",
    "> Please note: The heuristic methods used in this notebook are designed for simplicity and educational demonstration. They may not represent the most efficient or sophisticated problem-solving strategies but are chosen for their ease of understanding and effectiveness in illustrating basic concepts.\n"
   ]
  },
  {
   "cell_type": "code",
   "execution_count": null,
   "metadata": {},
   "outputs": [],
   "source": [
    "!pip install mathy_core>=0.9.3"
   ]
  },
  {
   "cell_type": "markdown",
   "metadata": {},
   "source": [
    "## Overview\n",
    "\n",
    "Before we get started, let's review how mathy core works.\n",
    "\n",
    "1. \"4x + 2x\" is broken into a list of tokens, roughly one per character in the input\n",
    "2. The list of tokens is then parsed into a binary tree structure that can be evaluated and transformed\n",
    "3. Rules are applied that make changes to the tree structures\n",
    "\n",
    "We'll use the `ExpressionParser` class to parse the inputs to trees and some basic built-in rules from `mathy_core.rules`"
   ]
  },
  {
   "cell_type": "code",
   "execution_count": 67,
   "metadata": {},
   "outputs": [
    {
     "data": {
      "text/plain": [
       "<mathy_core.parser.ExpressionParser at 0x7f9d040125b0>"
      ]
     },
     "execution_count": 67,
     "metadata": {},
     "output_type": "execute_result"
    }
   ],
   "source": [
    "from typing import List, Optional\n",
    "\n",
    "from mathy_core import (\n",
    "    BaseRule,\n",
    "    ExpressionChangeRule,\n",
    "    ExpressionParser,\n",
    "    MathExpression,\n",
    "    util,\n",
    "    rules as mathy_rules\n",
    ")\n",
    "\n",
    "parser = ExpressionParser()\n",
    "parser"
   ]
  },
  {
   "cell_type": "markdown",
   "metadata": {},
   "source": [
    "## Solution Checking\n",
    "\n",
    "To do more than randomly transform a tree, we need to be able to provide a yes/no answer to whether a given input tree structure is equivalent to what we want for our solution.\n",
    "\n",
    "In the case of polynomial simplification, we want to check that there are no **like terms** left in the tree and that the terms left are in the preferred arrangement.\n",
    "\n",
    "> Preferred term arrangement has the coefficient on the left and a variable on the right, e.g. `2x` rather than `x * 2`\n",
    "\n",
    "Let's implement that function for use in our simplification loop that's coming up. We'll make use of the generous set of utility functions provided by [mathy_core.util](https://core.mathy.ai/api/util) to find the \"term nodes\" inside our expression and then verify that there are no like terms in the bunch."
   ]
  },
  {
   "cell_type": "code",
   "execution_count": 68,
   "metadata": {},
   "outputs": [],
   "source": [
    "def is_simplified(expression: Optional[MathExpression]) -> bool:\n",
    "    \"\"\"If there are no like terms, consider the expression simplified.\"\"\"\n",
    "    is_win = False\n",
    "    # check if there are any like terms\n",
    "    if expression is None or util.has_like_terms(expression):\n",
    "        return False\n",
    "    # check if all terms are in preferred form\n",
    "    term_nodes: List[MathExpression] = util.get_terms(expression)\n",
    "    is_win = True\n",
    "    term: MathExpression\n",
    "    for term in term_nodes:\n",
    "        if not util.is_preferred_term_form(term):\n",
    "            is_win = False\n",
    "            break\n",
    "    return is_win\n",
    "\n",
    "\n",
    "# Let's verify that it does what we expect\n",
    "assert is_simplified(parser.parse(\"2x + x\")) is False\n",
    "assert is_simplified(parser.parse(\"2x + 17y - x\")) is False\n",
    "\n",
    "\n",
    "assert is_simplified(parser.parse(\"2x + y\")) is True\n",
    "assert is_simplified(parser.parse(\"2x + y + z + 17q^2\")) is True\n",
    "assert is_simplified(parser.parse(\"2x^3 + y + 17x\")) is True"
   ]
  },
  {
   "cell_type": "markdown",
   "metadata": {},
   "source": [
    "## Transformation Loop\n",
    "\n",
    "The simplest way to use [mathy_core](https://core.mathy.ai) is by applying transformations to random valid nodes until you reach the desired state. You won't get the optimal path to the solution, and if the problem is complex enough, you may not get to the solution, but it's vastly more straightforward than writing more complete heuristics, so here we go.\n",
    "\n",
    "We'll write a function that takes in a user input and then loops over the parsed expression, applying transformations in a given order to randomly chosen valid nodes for each rule. The rule ordering is crucial because it loosely mimics the order in which you would want to do these operations for this problem."
   ]
  },
  {
   "cell_type": "code",
   "execution_count": 69,
   "metadata": {},
   "outputs": [],
   "source": [
    "import random\n",
    "\n",
    "\n",
    "def simplify_polynomial(input_text: str, max_steps: int = 10) -> str:\n",
    "    parser = ExpressionParser()\n",
    "    expression: Optional[MathExpression] = parser.parse(input_text)\n",
    "    rules: List[BaseRule] = [\n",
    "        # 1. Factor out common terms always if we can\n",
    "        mathy_rules.DistributiveFactorOutRule(),\n",
    "        # 2. Simplify constants whenever possible\n",
    "        mathy_rules.ConstantsSimplifyRule(),\n",
    "        # 3. If we can't perform any of the above, move things\n",
    "        mathy_rules.CommutativeSwapRule(preferred=False),\n",
    "    ]\n",
    "    steps = 0\n",
    "    last_action = \"input\"\n",
    "    print(f\"STEP[0]: {last_action:<25} | {expression}\")\n",
    "    while not is_simplified(expression) and steps < max_steps:\n",
    "        steps += 1\n",
    "        for rule in rules:\n",
    "            options = rule.find_nodes(expression)\n",
    "            if len(options) == 0:\n",
    "                continue\n",
    "            option = random.choice(options)\n",
    "            change: ExpressionChangeRule = rule.apply_to(option)\n",
    "            assert change.result is not None, \"result should not be None\"\n",
    "            expression = change.result.get_root()\n",
    "            last_action = rule.name\n",
    "            break\n",
    "        print(f\"STEP[{steps}]: {last_action:<25} | {expression}\")\n",
    "\n",
    "    # Print the final result\n",
    "    outcome = \"WIN\" if is_simplified(expression) else \"LOSE\"\n",
    "    print(f\"FINAL: {expression} ---- {outcome}\")\n",
    "    return str(expression)"
   ]
  },
  {
   "cell_type": "markdown",
   "metadata": {},
   "source": [
    "## Results\n",
    "\n",
    "Now that we have a function for simplifying polynomials, we can invoke it to see a step-by-step solution. For more complex problems, you may need more steps."
   ]
  },
  {
   "cell_type": "code",
   "execution_count": 101,
   "metadata": {},
   "outputs": [
    {
     "name": "stdout",
     "output_type": "stream",
     "text": [
      "STEP[0]: input                     | 4x + y + 2x + 14x\n",
      "STEP[1]: Distributive Factoring    | 4x + y + (2 + 14) * x\n",
      "STEP[2]: Constant Arithmetic       | 4x + y + 16x\n",
      "STEP[3]: Commutative Swap          | 4x + 16x + y\n",
      "STEP[4]: Distributive Factoring    | (4 + 16) * x + y\n",
      "STEP[5]: Constant Arithmetic       | 20x + y\n",
      "FINAL: 20x + y ---- WIN\n",
      "STEP[0]: input                     | 4j + y + 2p + 14x + 2y + 3x + 7p + 8y + 9j + 10y\n",
      "STEP[1]: Commutative Swap          | 4j + y + 2p + 14x + 3x + 2y + 7p + 8y + 9j + 10y\n",
      "STEP[2]: Distributive Factoring    | 4j + y + 2p + (14 + 3) * x + 2y + 7p + 8y + 9j + 10y\n",
      "STEP[3]: Constant Arithmetic       | 4j + y + 2p + 17x + 2y + 7p + 8y + 9j + 10y\n",
      "STEP[4]: Commutative Swap          | 4j + y + 2p + 17x + 2y + 7p + 9j + 8y + 10y\n",
      "STEP[5]: Distributive Factoring    | 4j + y + 2p + 17x + 2y + 7p + 9j + (8 + 10) * y\n",
      "STEP[6]: Constant Arithmetic       | 4j + y + 2p + 17x + 2y + 7p + 9j + 18y\n",
      "STEP[7]: Commutative Swap          | 4j + 2p + y + 17x + 2y + 7p + 9j + 18y\n",
      "STEP[8]: Commutative Swap          | 4j + y + 2p + 17x + 2y + 7p + 9j + 18y\n",
      "STEP[9]: Commutative Swap          | 4j + y + 2p + 17x + 2y + 9j + 7p + 18y\n",
      "STEP[10]: Commutative Swap          | 4j + y + 17x + 2p + 2y + 9j + 7p + 18y\n",
      "STEP[11]: Commutative Swap          | 4j + y + 17x + 2p + 2y + 9j + 18y + 7p\n",
      "STEP[12]: Commutative Swap          | 4j + y + 17x + 2p + 2y + 18y + 9j + 7p\n",
      "STEP[13]: Distributive Factoring    | 4j + y + 17x + 2p + (2 + 18) * y + 9j + 7p\n",
      "STEP[14]: Constant Arithmetic       | 4j + y + 17x + 2p + 20y + 9j + 7p\n",
      "STEP[15]: Commutative Swap          | y + 4j + 17x + 2p + 20y + 9j + 7p\n",
      "STEP[16]: Commutative Swap          | y + 4j + 17x + 2p + 9j + 20y + 7p\n",
      "STEP[17]: Commutative Swap          | y + 4j + 17x + 2p + 20y + 9j + 7p\n",
      "STEP[18]: Commutative Swap          | y + 4j + 17x + 20y + 2p + 9j + 7p\n",
      "STEP[19]: Commutative Swap          | y + 17x + 4j + 20y + 2p + 9j + 7p\n",
      "STEP[20]: Commutative Swap          | y + 17x + 4j + 20y + 2p + 7p + 9j\n",
      "STEP[21]: Distributive Factoring    | y + 17x + 4j + 20y + (2 + 7) * p + 9j\n",
      "STEP[22]: Constant Arithmetic       | y + 17x + 4j + 20y + 9p + 9j\n",
      "STEP[23]: Commutative Swap          | y + 4j + 17x + 20y + 9p + 9j\n",
      "STEP[24]: Commutative Swap          | y + 4j + 20y + 17x + 9p + 9j\n",
      "STEP[25]: Commutative Swap          | y + 4j + 20y + 17x + 9j + 9p\n",
      "STEP[26]: Commutative Swap          | 4j + y + 20y + 17x + 9j + 9p\n",
      "STEP[27]: Distributive Factoring    | 4j + (1 + 20) * y + 17x + 9j + 9p\n",
      "STEP[28]: Constant Arithmetic       | 4j + 21y + 17x + 9j + 9p\n",
      "STEP[29]: Commutative Swap          | 21y + 4j + 17x + 9j + 9p\n",
      "STEP[30]: Commutative Swap          | 21y + 4j + 17x + 9p + 9j\n",
      "STEP[31]: Commutative Swap          | 21y + 4j + 9p + 17x + 9j\n",
      "STEP[32]: Commutative Swap          | 21y + 4j + 17x + 9p + 9j\n",
      "STEP[33]: Commutative Swap          | 4j + 21y + 17x + 9p + 9j\n",
      "STEP[34]: Commutative Swap          | 4j + 21y + 9p + 17x + 9j\n",
      "STEP[35]: Commutative Swap          | 4j + 21y + 9p + 9j + 17x\n",
      "STEP[36]: Commutative Swap          | 21y + 4j + 9p + 9j + 17x\n",
      "STEP[37]: Commutative Swap          | 21y + 4j + 9p + 17x + 9j\n",
      "STEP[38]: Commutative Swap          | 21y + 9p + 4j + 17x + 9j\n",
      "STEP[39]: Commutative Swap          | 21y + 9p + 17x + 4j + 9j\n",
      "STEP[40]: Distributive Factoring    | 21y + 9p + 17x + (4 + 9) * j\n",
      "STEP[41]: Constant Arithmetic       | 21y + 9p + 17x + 13j\n",
      "FINAL: 21y + 9p + 17x + 13j ---- WIN\n"
     ]
    },
    {
     "data": {
      "text/plain": [
       "'21y + 9p + 17x + 13j'"
      ]
     },
     "execution_count": 101,
     "metadata": {},
     "output_type": "execute_result"
    }
   ],
   "source": [
    "simplify_polynomial(\"4x + y + 2x + 14x\")\n",
    "simplify_polynomial(\"4j + y + 2p + 14x + 2y + 3x + 7p + 8y + 9j + 10y\", max_steps=100)"
   ]
  },
  {
   "cell_type": "markdown",
   "metadata": {},
   "source": [
    "## Reader's Challenge\n",
    "\n",
    "The simplified example problems don't include subtraction operators because the `commutative property` that moves nodes around cannot be applied to subtraction. Luckily, we can restate a subtraction as the addition of a negation. This allows us to commute the subtraction around while maintaining the value of the original expression.\n",
    "\n",
    "Mathy core includes a built-in rule [Restate Subtraction](https://core.mathy.ai/api/rules/restate_subtraction/) to add to our `simplify_polynomial` function. Try adding this rule to the `simplify_polynomial` so that the following cell executes and simplifies each example successfully.\n",
    "\n",
    "<details>\n",
    "<summary>Click here for a hint</summary>\n",
    "<em>It's not as simple as inserting the rule in the list.</em>\n",
    "</details>\n",
    "<details>\n",
    "<summary>Click here for another hint</summary>\n",
    "<em>You can remove the commutative rule from the ordered list of actions, create another list with commutative and restate, then select randomly from the second list when none of the ordered rules are applicable.</em>\n",
    "</details>"
   ]
  },
  {
   "cell_type": "code",
   "execution_count": null,
   "metadata": {},
   "outputs": [],
   "source": [
    "simplify_polynomial(\"4x - 3x\")\n",
    "simplify_polynomial(\"4x - 3y + 3x\")"
   ]
  },
  {
   "cell_type": "markdown",
   "metadata": {},
   "source": [
    "## Conclusion\n",
    "\n",
    "If you've made it this far, congratulations! Hopefully, you have a basic grasp of how you can work with mathy_core to construct applications that solve specific types of math problems while demonstrating their work step-by-step in an interpretable way.\n",
    "\n",
    "While this example may be brittle, mathy is capable of much more if you combine it with a formal environment to run simulations like the one we wrote here. That's where the library [mathy_envs](https://envs.mathy.ai) comes into play and where we enter the exciting world of planning and learning algorithms! \n",
    "\n",
    "But we'll talk about that another time. Until then, happy hacking friends! 😎"
   ]
  }
 ],
 "metadata": {
  "kernelspec": {
   "display_name": ".env",
   "language": "python",
   "name": "python3"
  },
  "language_info": {
   "codemirror_mode": {
    "name": "ipython",
    "version": 3
   },
   "file_extension": ".py",
   "mimetype": "text/x-python",
   "name": "python",
   "nbconvert_exporter": "python",
   "pygments_lexer": "ipython3",
   "version": "3.8.17"
  }
 },
 "nbformat": 4,
 "nbformat_minor": 2
}

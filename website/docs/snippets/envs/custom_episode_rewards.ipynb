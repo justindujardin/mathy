{
 "cells": [
  {
   "cell_type": "code",
   "execution_count": null,
   "id": "f5c02514",
   "metadata": {
    "collapsed": false
   },
   "outputs": [],
   "source": [
    "# This file is generated from a Mathy (https://mathy.ai) code example.\n",
    "!pip install mathy --upgrade\n",
    "\"\"\"Environment with user-defined terminal rewards\"\"\"\n",
    "\n",
    "from mathy_core.rules import ConstantsSimplifyRule\n",
    "from mathy_envs import MathyEnvState, envs, is_terminal_transition\n",
    "\n",
    "\n",
    "class CustomEpisodeRewards(envs.PolySimplify):\n",
    "    def get_win_signal(self, env_state: MathyEnvState) -> float:\n",
    "        return 20.0\n",
    "\n",
    "    def get_lose_signal(self, env_state: MathyEnvState) -> float:\n",
    "        return -20.0\n",
    "\n",
    "\n",
    "env = CustomEpisodeRewards()\n",
    "\n",
    "# Win by simplifying constants and yielding a single simple term form\n",
    "state = MathyEnvState(problem=\"(4 + 2) * x\")\n",
    "expression = env.parser.parse(state.agent.problem)\n",
    "action = env.random_action(expression, ConstantsSimplifyRule)\n",
    "out_state, transition, _ = env.get_next_state(state, action)\n",
    "assert is_terminal_transition(transition) is True\n",
    "assert transition.reward == 20.0\n",
    "assert out_state.agent.problem == \"6x\"\n",
    "\n",
    "# Lose by applying a rule with only 1 move remaining\n",
    "state = MathyEnvState(problem=\"2x + (4 + 2) + 4x\", max_moves=1)\n",
    "expression = env.parser.parse(state.agent.problem)\n",
    "action = env.random_action(expression, ConstantsSimplifyRule)\n",
    "out_state, transition, _ = env.get_next_state(state, action)\n",
    "assert is_terminal_transition(transition) is True\n",
    "assert transition.reward == -20.0\n",
    "assert out_state.agent.problem == \"2x + 6 + 4x\""
   ]
  }
 ],
 "metadata": {},
 "nbformat": 4,
 "nbformat_minor": 5
}

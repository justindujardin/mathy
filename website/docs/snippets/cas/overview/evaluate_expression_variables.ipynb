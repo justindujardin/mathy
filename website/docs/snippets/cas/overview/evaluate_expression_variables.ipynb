{
 "cells": [
  {
   "cell_type": "code",
   "execution_count": null,
   "id": "ba9bcd0d",
   "metadata": {
    "collapsed": false
   },
   "outputs": [],
   "source": [
    "# This file is generated from a Mathy (https://mathy.ai) code example.\n",
    "!pip install mathy --upgrade\n",
    "from mathy_core import ExpressionParser, MathExpression\n",
    "\n",
    "expression: MathExpression = ExpressionParser().parse(\"4x + 2y\")\n",
    "assert expression.evaluate({\"x\": 2, \"y\": 5}) == 18"
   ]
  }
 ],
 "metadata": {},
 "nbformat": 4,
 "nbformat_minor": 5
}
